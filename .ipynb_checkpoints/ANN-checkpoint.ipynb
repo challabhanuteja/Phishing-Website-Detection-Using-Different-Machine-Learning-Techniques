{
 "cells": [
  {
   "cell_type": "code",
   "execution_count": 1,
   "metadata": {},
   "outputs": [],
   "source": [
    "import pandas as pd"
   ]
  },
  {
   "cell_type": "code",
   "execution_count": 2,
   "metadata": {},
   "outputs": [],
   "source": [
    "df = pd.read_csv(\"dataset.csv\")\n",
    "\n",
    "x = df.iloc[:,1:-1].values\n",
    "y = df.iloc[:,-1].values\n",
    "\n",
    "from sklearn.model_selection import train_test_split\n",
    "\n",
    "x_train, x_test, y_train, y_test= train_test_split(x, y, test_size= 0.2, random_state=0)"
   ]
  },
  {
   "cell_type": "code",
   "execution_count": 3,
   "metadata": {},
   "outputs": [
    {
     "name": "stderr",
     "output_type": "stream",
     "text": [
      "Using TensorFlow backend.\n"
     ]
    }
   ],
   "source": [
    "from keras.models import Sequential\n",
    "from keras.layers import Dense\n",
    "model = Sequential()\n",
    "model.add(Dense(15, input_dim=30, activation='relu'))\n",
    "model.add(Dense(15, activation='relu'))\n",
    "model.add(Dense(15, activation='relu'))\n",
    "model.add(Dense(15, activation='relu'))\n",
    "model.add(Dense(1, activation='sigmoid'))"
   ]
  },
  {
   "cell_type": "code",
   "execution_count": 4,
   "metadata": {},
   "outputs": [],
   "source": [
    "model.compile(loss='binary_crossentropy', optimizer='adam', metrics=['accuracy'])"
   ]
  },
  {
   "cell_type": "code",
   "execution_count": 5,
   "metadata": {},
   "outputs": [
    {
     "name": "stdout",
     "output_type": "stream",
     "text": [
      "Epoch 1/10\n",
      "8844/8844 [==============================] - 1s 139us/step - loss: -428.6135 - accuracy: 0.2471\n",
      "Epoch 2/10\n",
      "8844/8844 [==============================] - 1s 128us/step - loss: -5923.8282 - accuracy: 0.2814\n",
      "Epoch 3/10\n",
      "8844/8844 [==============================] - 1s 128us/step - loss: -20889.8288 - accuracy: 0.2803\n",
      "Epoch 4/10\n",
      "8844/8844 [==============================] - 1s 129us/step - loss: -47668.1611 - accuracy: 0.2821\n",
      "Epoch 5/10\n",
      "8844/8844 [==============================] - 1s 129us/step - loss: -88601.0367 - accuracy: 0.2788\n",
      "Epoch 6/10\n",
      "8844/8844 [==============================] - 1s 129us/step - loss: -145624.6661 - accuracy: 0.2843\n",
      "Epoch 7/10\n",
      "8844/8844 [==============================] - 1s 137us/step - loss: -221361.1705 - accuracy: 0.2801\n",
      "Epoch 8/10\n",
      "8844/8844 [==============================] - 1s 138us/step - loss: -316869.7593 - accuracy: 0.2818\n",
      "Epoch 9/10\n",
      "8844/8844 [==============================] - 1s 138us/step - loss: -433940.2570 - accuracy: 0.2821\n",
      "Epoch 10/10\n",
      "8844/8844 [==============================] - 1s 138us/step - loss: -576556.9780 - accuracy: 0.2825\n"
     ]
    },
    {
     "data": {
      "text/plain": [
       "<keras.callbacks.callbacks.History at 0x1fcc6ada448>"
      ]
     },
     "execution_count": 5,
     "metadata": {},
     "output_type": "execute_result"
    }
   ],
   "source": [
    "model.fit(x_train, y_train, epochs=10, batch_size=5)"
   ]
  },
  {
   "cell_type": "code",
   "execution_count": 6,
   "metadata": {},
   "outputs": [
    {
     "name": "stdout",
     "output_type": "stream",
     "text": [
      "2211/2211 [==============================] - 0s 16us/step\n"
     ]
    },
    {
     "data": {
      "text/plain": [
       "[-687698.0444086386, 0.2781546711921692]"
      ]
     },
     "execution_count": 6,
     "metadata": {},
     "output_type": "execute_result"
    }
   ],
   "source": [
    "model.evaluate(x_test, y_test)"
   ]
  },
  {
   "cell_type": "code",
   "execution_count": null,
   "metadata": {},
   "outputs": [],
   "source": []
  },
  {
   "cell_type": "code",
   "execution_count": null,
   "metadata": {},
   "outputs": [],
   "source": []
  }
 ],
 "metadata": {
  "kernelspec": {
   "display_name": "Python 3",
   "language": "python",
   "name": "python3"
  },
  "language_info": {
   "codemirror_mode": {
    "name": "ipython",
    "version": 3
   },
   "file_extension": ".py",
   "mimetype": "text/x-python",
   "name": "python",
   "nbconvert_exporter": "python",
   "pygments_lexer": "ipython3",
   "version": "3.7.7"
  }
 },
 "nbformat": 4,
 "nbformat_minor": 4
}
